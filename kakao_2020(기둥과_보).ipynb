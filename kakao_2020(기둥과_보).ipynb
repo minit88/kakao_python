{
  "nbformat": 4,
  "nbformat_minor": 0,
  "metadata": {
    "colab": {
      "name": "kakao_2020(기둥과 보).ipynb",
      "provenance": [],
      "authorship_tag": "ABX9TyNQub4jomA1Lq9PeT7lsh/Z",
      "include_colab_link": true
    },
    "kernelspec": {
      "name": "python3",
      "display_name": "Python 3"
    },
    "language_info": {
      "name": "python"
    }
  },
  "cells": [
    {
      "cell_type": "markdown",
      "metadata": {
        "id": "view-in-github",
        "colab_type": "text"
      },
      "source": [
        "<a href=\"https://colab.research.google.com/github/minit88/kakao_python/blob/main/kakao_2020(%EA%B8%B0%EB%91%A5%EA%B3%BC_%EB%B3%B4).ipynb\" target=\"_parent\"><img src=\"https://colab.research.google.com/assets/colab-badge.svg\" alt=\"Open In Colab\"/></a>"
      ]
    },
    {
      "cell_type": "code",
      "source": [
        "\n",
        "def possible(answer):\n",
        "    for i in answer:\n",
        "      x,y,stuff  = i\n",
        "      if stuff ==0 : # 설치된 것이 '기둥'인 경우 \n",
        "        #'바닥'위 혹은 기둥 위 또는 한쪽 보의 끝\n",
        "        if y==0 or [x,y-1,0] in answer or [x-1,y,1] in answer or [x,y,1] in answer:\n",
        "          continue\n",
        "        return False\n",
        "\n",
        "      if stuff ==1: #설치된 것이 '보'인 경우\n",
        "        #다른 보랑 연결되어 있거나 한쪽 끝부분이 기둥의 위에 있을 경우  \n",
        "        if ([x-1,y,1] in answer and [x+1,y,1] in answer) or [x,y-1,0] in answer or [x+1,y-1,0]in answer:\n",
        "          continue\n",
        "        return False\n",
        "    \n",
        "    return True\n",
        "      \n",
        "\n",
        "def solution(n,build_frame) :\n",
        "  answer=[]\n",
        "  for i in build_frame:\n",
        "    x,y,s,o = i\n",
        "    if o==0 :# 삭제하는 경우\n",
        "      answer.remove([x,y,s]) #일단 삭제를 해보고\n",
        "      if not possible(answer): # 가능하지 않으면\n",
        "        answer.append([x,y,s])\n",
        "    \n",
        "\n",
        "    elif o==1: #설치하는 경우\n",
        "        answer.append([x,y,s])#일단 추가를 하고\n",
        "        if not possible(answer): #가능하지 않으면\n",
        "          answer.remove([x,y,s])#다시 삭제\n",
        "  \n",
        "  return sorted(answer)\n",
        "    \n",
        "\n",
        "\n",
        "\n",
        "build_frame = [[0,0,0,1],[2,0,0,1],[4,0,0,1],[0,1,1,1],[1,1,1,1],[2,1,1,1],[3,1,1,1],[2,0,0,0],[1,1,1,0],[2,2,0,1]]\n",
        "\n",
        "\n",
        "solution(4,build_frame)\n"
      ],
      "metadata": {
        "colab": {
          "base_uri": "https://localhost:8080/"
        },
        "id": "qP1lWBhzmS3t",
        "outputId": "25506040-52ca-4ec1-ae47-c41dace3b2ed"
      },
      "execution_count": 37,
      "outputs": [
        {
          "output_type": "execute_result",
          "data": {
            "text/plain": [
              "[[0, 0, 0], [0, 1, 1], [1, 1, 1], [2, 1, 1], [3, 1, 1], [4, 0, 0]]"
            ]
          },
          "metadata": {},
          "execution_count": 37
        }
      ]
    }
  ]
}
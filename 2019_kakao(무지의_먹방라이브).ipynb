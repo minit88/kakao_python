{
  "nbformat": 4,
  "nbformat_minor": 0,
  "metadata": {
    "colab": {
      "name": "2019 kakao(무지의 먹방라이브).ipynb",
      "provenance": [],
      "authorship_tag": "ABX9TyPATq0rkX1FuL1m8EO4cXiK",
      "include_colab_link": true
    },
    "kernelspec": {
      "name": "python3",
      "display_name": "Python 3"
    },
    "language_info": {
      "name": "python"
    }
  },
  "cells": [
    {
      "cell_type": "markdown",
      "metadata": {
        "id": "view-in-github",
        "colab_type": "text"
      },
      "source": [
        "<a href=\"https://colab.research.google.com/github/minit88/kakao_python/blob/main/2019_kakao(%EB%AC%B4%EC%A7%80%EC%9D%98_%EB%A8%B9%EB%B0%A9%EB%9D%BC%EC%9D%B4%EB%B8%8C).ipynb\" target=\"_parent\"><img src=\"https://colab.research.google.com/assets/colab-badge.svg\" alt=\"Open In Colab\"/></a>"
      ]
    },
    {
      "cell_type": "code",
      "execution_count": null,
      "metadata": {
        "id": "KmUlYFlHCgny"
      },
      "outputs": [],
      "source": [
        "N, M = map(int, input().split())\n",
        "original = []\n",
        "count = []\n",
        "for _ in range(N):\n",
        "    original.append(input())\n",
        "\n",
        "for a in range(N-7):\n",
        "    for b in range(M-7):\n",
        "        index1 = 0\n",
        "        index2 = 0\n",
        "        for i in range(a, a+8):\n",
        "            for j in range(b, b+8):\n",
        "                if (i+j) % 2 == 0:\n",
        "                    if original[i][j] != 'W':\n",
        "                        index1 += 1\n",
        "                    if original[i][j] != 'B':\n",
        "                        index2 += 1\n",
        "                else:\n",
        "                    if original[i][j] != 'B':\n",
        "                        index1 += 1\n",
        "                    if original[i][j] != 'W':\n",
        "                        index2 += 1\n",
        "        count.append(min(index1, index2))\n",
        "\n",
        "print(min(count))"
      ]
    }
  ]
}
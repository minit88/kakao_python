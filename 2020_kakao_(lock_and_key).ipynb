{
  "nbformat": 4,
  "nbformat_minor": 0,
  "metadata": {
    "colab": {
      "name": "2020_kakao_(lock and key).ipynb",
      "provenance": [],
      "authorship_tag": "ABX9TyO95IMQfb3Y9XrkZPwLt/JY",
      "include_colab_link": true
    },
    "kernelspec": {
      "name": "python3",
      "display_name": "Python 3"
    },
    "language_info": {
      "name": "python"
    }
  },
  "cells": [
    {
      "cell_type": "markdown",
      "metadata": {
        "id": "view-in-github",
        "colab_type": "text"
      },
      "source": [
        "<a href=\"https://colab.research.google.com/github/minit88/kakao_python/blob/main/2020_kakao_(lock_and_key).ipynb\" target=\"_parent\"><img src=\"https://colab.research.google.com/assets/colab-badge.svg\" alt=\"Open In Colab\"/></a>"
      ]
    },
    {
      "cell_type": "code",
      "execution_count": 17,
      "metadata": {
        "colab": {
          "base_uri": "https://localhost:8080/"
        },
        "id": "ax825Zu1nve6",
        "outputId": "eb3115b9-574a-4da5-ea78-07e232db19f3"
      },
      "outputs": [
        {
          "output_type": "execute_result",
          "data": {
            "text/plain": [
              "False"
            ]
          },
          "metadata": {},
          "execution_count": 17
        }
      ],
      "source": [
        "from collections import deque\n",
        "\n",
        "#문제풀이\n",
        "\n",
        "#직각 돌리고(열쇠 생성 후) nxn 한칸씩 확인(잠금해제)\n",
        "def rotate_90(key):\n",
        "  n= len(key) # 행 길이 계산\n",
        "  m= len(key[0]) #열 길이 계산\n",
        "  ret = [[0]*(n)for _ in range(m)] # 2차 리스트 생성\n",
        "\n",
        "  for i in range(n): # r가로 c세로\n",
        "    for j in range(m):\n",
        "      ret[j][n-1-i] = key[i][j]\n",
        "  return ret\n",
        "\n",
        "#자물쇠 중간 NxN 부분이 모두 1인지 확인\n",
        "def check(new_lock):\n",
        "  n= len(new_lock)//3\n",
        "  for i in range(n,n*2):\n",
        "    for j in range(n,n*2):\n",
        "      if new_lock[i][j] != 1:\n",
        "        return False\n",
        "  return True\n",
        "\n",
        "def solution(key,lock):\n",
        "  m=len(key)\n",
        "  n=len(lock)\n",
        "\n",
        "  #기존 자물쇠보다 3배 큰 자물쇠\n",
        "  new_lock = [[0]*(n*3)for _ in range(n*3)]\n",
        "  #새로운 자물쇠의 중앙 부분에 기존 자물쇠 넣기\n",
        "  for i in range(n):\n",
        "    for j in range(n):\n",
        "      new_lock[i+n][j+n] = lock[i][j]\n",
        "\n",
        "  #4가지 방향에 대해서 확인\n",
        "  for r in range(4):\n",
        "    key = rotate_90(key)\n",
        "    #1부터 2n까지 키를 자물쇠에 더해줌\n",
        "    for y in range(2*n):\n",
        "      for x in range(2*n):\n",
        "        for i in range(m):\n",
        "          for j in range(m):\n",
        "            new_lock[i+x][j+y] += key[i][j]\n",
        "          \n",
        "        #키가 자물쇠 중간 부분에 모두 들어맞는지 확인\n",
        "        if check(new_lock)==True:\n",
        "          return True\n",
        "\n",
        "          #들어맞지 않을 경우 다시 뺌\n",
        "        for i in range(m):\n",
        "          for j in range(m):\n",
        "              new_lock[i+x][j+y]-=key[i][j]\n",
        "  return False\n",
        "\n",
        "\n",
        "\n",
        "\n",
        "\n",
        "  \n",
        "\n",
        "\n",
        "\n",
        "key= [[0, 0, 0], [1, 0, 0], [0, 1, 1]]\n",
        "lock=[[1, 1, 1], [1, 1, 0], [1, 0, 1]]\n",
        "solution(key,lock)\n",
        "\n",
        "\n"
      ]
    },
    {
      "cell_type": "code",
      "source": [
        "from collections import deque\n",
        "#문제 풀이중 만들었던 함수들\n",
        "\n",
        "#키의 일부분과 자물쇠의 일부분의 합을 분석 -> 두 합이 1인지를 파악\n",
        "def find_lock(key_part,lock_part):\n",
        "    FLTR=False\n",
        "    FRTL=False\n",
        "    length = len(lock_part)\n",
        "    num = len(key_part)-1\n",
        "    a=0\n",
        "    b=1\n",
        "    length2=length\n",
        "    dd=length//2\n",
        "\n",
        "\n",
        "    while  a<=length//2+1:\n",
        "        re =lock_part\n",
        "        q= from_left_to_right_que(key_part,num)\n",
        "        ca=a\n",
        "        if num!=0:\n",
        "          num-=1\n",
        "        while q:\n",
        "          re[ca]+=q.popleft()\n",
        "          a+=1\n",
        "        if sum(re) == length:\n",
        "          FLTR = True\n",
        "          break\n",
        "        print(re)\n",
        "        a+=1\n",
        "\n",
        "    for i in range(length-1,length//2-1,-1):\n",
        "        rg =lock_part\n",
        "        q= from_right_to_left_que(key_part,b)\n",
        "        if b<=num+2 :\n",
        "          b+=1\n",
        "        while q:\n",
        "          rg[i]+=q.pop()\n",
        "          i-=1\n",
        "        if sum(rg)==length:\n",
        "          FRTL = True\n",
        "          break\n",
        "      \n",
        "\n",
        "\n",
        "    if FLTR or FRTL == True:\n",
        "      return True\n",
        "    else:\n",
        "      return False\n",
        "\n",
        "  \n",
        "\n",
        "#키의 일부분과 자물쇠의 일부분의 합을 분석 -> 두 합이 1인지를 파악\n",
        "def find_lock(key_part,lock_part):\n",
        "  for i in range(1,len(key_part)+1): # 1부터 n번까지\n",
        "    for j in range(i):\n",
        "      q=deque(key_part) # 매번 q를 생성\n",
        "      abc = []\n",
        "      abc.append(q.pop()) # First In Last Out\n",
        "\n",
        "      for j in range(i):\n",
        "        lock[j]+=lock_part[j] \n",
        "            \n",
        "      if sum(abc)==len(key_part): # 키가 맞을 때\n",
        "          return True\n",
        "  for i in range(len(key_part),-1,-1):        \n",
        "    q=deque(key[i:len(key_part)-1])\n",
        "  return False\n",
        "\n",
        "key = [1,1,0]\n",
        "lock = [0,0,1]\n",
        "find_lock(key,lock)"
      ],
      "metadata": {
        "colab": {
          "base_uri": "https://localhost:8080/",
          "height": 317
        },
        "id": "_fR3PDGbrxRz",
        "outputId": "b25ed0bb-dc29-498a-9c9f-fa335a621d13"
      },
      "execution_count": null,
      "outputs": [
        {
          "output_type": "error",
          "ename": "IndexError",
          "evalue": "ignored",
          "traceback": [
            "\u001b[0;31m---------------------------------------------------------------------------\u001b[0m",
            "\u001b[0;31mIndexError\u001b[0m                                Traceback (most recent call last)",
            "\u001b[0;32m<ipython-input-6-f6f0e1c845d9>\u001b[0m in \u001b[0;36m<module>\u001b[0;34m()\u001b[0m\n\u001b[1;32m     18\u001b[0m \u001b[0mkey\u001b[0m \u001b[0;34m=\u001b[0m \u001b[0;34m[\u001b[0m\u001b[0;36m1\u001b[0m\u001b[0;34m,\u001b[0m\u001b[0;36m1\u001b[0m\u001b[0;34m,\u001b[0m\u001b[0;36m0\u001b[0m\u001b[0;34m]\u001b[0m\u001b[0;34m\u001b[0m\u001b[0;34m\u001b[0m\u001b[0m\n\u001b[1;32m     19\u001b[0m \u001b[0mlock\u001b[0m \u001b[0;34m=\u001b[0m \u001b[0;34m[\u001b[0m\u001b[0;36m0\u001b[0m\u001b[0;34m,\u001b[0m\u001b[0;36m0\u001b[0m\u001b[0;34m,\u001b[0m\u001b[0;36m1\u001b[0m\u001b[0;34m]\u001b[0m\u001b[0;34m\u001b[0m\u001b[0;34m\u001b[0m\u001b[0m\n\u001b[0;32m---> 20\u001b[0;31m \u001b[0mfind_lock\u001b[0m\u001b[0;34m(\u001b[0m\u001b[0mkey\u001b[0m\u001b[0;34m,\u001b[0m\u001b[0mlock\u001b[0m\u001b[0;34m)\u001b[0m\u001b[0;34m\u001b[0m\u001b[0;34m\u001b[0m\u001b[0m\n\u001b[0m",
            "\u001b[0;32m<ipython-input-6-f6f0e1c845d9>\u001b[0m in \u001b[0;36mfind_lock\u001b[0;34m(key_part, lock_part)\u001b[0m\n\u001b[1;32m      9\u001b[0m       \u001b[0mabc\u001b[0m\u001b[0;34m.\u001b[0m\u001b[0mappend\u001b[0m\u001b[0;34m(\u001b[0m\u001b[0mq\u001b[0m\u001b[0;34m.\u001b[0m\u001b[0mpop\u001b[0m\u001b[0;34m(\u001b[0m\u001b[0;34m)\u001b[0m\u001b[0;34m)\u001b[0m \u001b[0;31m# First In Last Out\u001b[0m\u001b[0;34m\u001b[0m\u001b[0;34m\u001b[0m\u001b[0m\n\u001b[1;32m     10\u001b[0m       \u001b[0;32mfor\u001b[0m \u001b[0mk\u001b[0m \u001b[0;32min\u001b[0m \u001b[0mrange\u001b[0m\u001b[0;34m(\u001b[0m\u001b[0mj\u001b[0m\u001b[0;34m)\u001b[0m\u001b[0;34m:\u001b[0m\u001b[0;34m\u001b[0m\u001b[0;34m\u001b[0m\u001b[0m\n\u001b[0;32m---> 11\u001b[0;31m           \u001b[0mabc\u001b[0m\u001b[0;34m[\u001b[0m\u001b[0mk\u001b[0m\u001b[0;34m]\u001b[0m\u001b[0;34m+=\u001b[0m\u001b[0mlock_part\u001b[0m\u001b[0;34m[\u001b[0m\u001b[0mk\u001b[0m\u001b[0;34m]\u001b[0m\u001b[0;34m\u001b[0m\u001b[0;34m\u001b[0m\u001b[0m\n\u001b[0m\u001b[1;32m     12\u001b[0m \u001b[0;34m\u001b[0m\u001b[0m\n\u001b[1;32m     13\u001b[0m       \u001b[0;32mif\u001b[0m \u001b[0msum\u001b[0m\u001b[0;34m(\u001b[0m\u001b[0mabc\u001b[0m\u001b[0;34m)\u001b[0m\u001b[0;34m==\u001b[0m\u001b[0mlen\u001b[0m\u001b[0;34m(\u001b[0m\u001b[0mkey_part\u001b[0m\u001b[0;34m)\u001b[0m\u001b[0;34m:\u001b[0m \u001b[0;31m# 키가 맞을 때\u001b[0m\u001b[0;34m\u001b[0m\u001b[0;34m\u001b[0m\u001b[0m\n",
            "\u001b[0;31mIndexError\u001b[0m: list index out of range"
          ]
        }
      ]
    },
    {
      "cell_type": "code",
      "source": [
        "from collections import deque\n",
        "#문제 풀이중 만들었던 함수들\n",
        "\n",
        "def from_left_to_right_que(key_part,num):\n",
        "  return deque(key_part[num:])\n",
        "\n",
        "def find_lock(key_part,lock_part):\n",
        "    FLTR=False\n",
        "    FRTL=False\n",
        "    length = len(lock_part)\n",
        "    num = len(key_part)-1\n",
        "    a=0\n",
        "    while  a<=length//2+1:\n",
        "      re =lock_part\n",
        "      for i in range(a):\n",
        "        q= from_left_to_right_que(key_part,num)\n",
        "        if num!=0:\n",
        "          num-=1\n",
        "        while q:\n",
        "          re[i]+=q.popleft()\n",
        "      if sum(re) == length:\n",
        "        FLTR = True\n",
        "        break\n",
        "      a+=1\n",
        "    if FLTR or FRTL == True:\n",
        "      return True\n",
        "    else:\n",
        "      return False\n",
        "\n",
        "\n",
        "\n",
        "key_part =[0,1,1]\n",
        "lock_part=[0,0,1]\n",
        "find_lock(lock_part,key_part)"
      ],
      "metadata": {
        "colab": {
          "base_uri": "https://localhost:8080/"
        },
        "id": "hQvaNIOBxmR9",
        "outputId": "7acdb618-a635-4993-fb61-43c9de899a84"
      },
      "execution_count": null,
      "outputs": [
        {
          "output_type": "execute_result",
          "data": {
            "text/plain": [
              "True"
            ]
          },
          "metadata": {},
          "execution_count": 28
        }
      ]
    },
    {
      "cell_type": "code",
      "source": [
        "a = [[1]*2 for _ in range(3)]\n",
        "print(a)\n",
        "print(len(a[0]))\n",
        "print(len(a))"
      ],
      "metadata": {
        "colab": {
          "base_uri": "https://localhost:8080/"
        },
        "id": "IV-NLNc6IOfg",
        "outputId": "f48ef148-c121-4b88-c2ef-1c3dc75d7271"
      },
      "execution_count": 6,
      "outputs": [
        {
          "output_type": "stream",
          "name": "stdout",
          "text": [
            "[[1, 1], [1, 1], [1, 1]]\n",
            "2\n",
            "3\n"
          ]
        }
      ]
    }
  ]
}
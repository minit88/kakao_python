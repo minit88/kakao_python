{
  "nbformat": 4,
  "nbformat_minor": 0,
  "metadata": {
    "colab": {
      "name": "kakao2020 (외벽점검).ipynb",
      "provenance": [],
      "authorship_tag": "ABX9TyNC9hy9zQ0C/OCkFQlwYLn9",
      "include_colab_link": true
    },
    "kernelspec": {
      "name": "python3",
      "display_name": "Python 3"
    },
    "language_info": {
      "name": "python"
    }
  },
  "cells": [
    {
      "cell_type": "markdown",
      "metadata": {
        "id": "view-in-github",
        "colab_type": "text"
      },
      "source": [
        "<a href=\"https://colab.research.google.com/github/minit88/kakao_python/blob/main/kakao2020_(%EC%99%B8%EB%B2%BD%EC%A0%90%EA%B2%80).ipynb\" target=\"_parent\"><img src=\"https://colab.research.google.com/assets/colab-badge.svg\" alt=\"Open In Colab\"/></a>"
      ]
    },
    {
      "cell_type": "code",
      "execution_count": 11,
      "metadata": {
        "colab": {
          "base_uri": "https://localhost:8080/"
        },
        "id": "diNxEjCwzjnG",
        "outputId": "dbb5898b-1522-4bc7-9f0d-cc5b65b56310"
      },
      "outputs": [
        {
          "output_type": "execute_result",
          "data": {
            "text/plain": [
              "2"
            ]
          },
          "metadata": {},
          "execution_count": 11
        }
      ],
      "source": [
        "from itertools import combinations ,permutations\n",
        "\n",
        "def solution(n,weak,dist):\n",
        "  length = len(weak)\n",
        "  for i in range(length):\n",
        "    weak.append(weak[i]+n)\n",
        "  answer = len(dist)+1\n",
        "\n",
        "  for start in range(length):\n",
        "    for friends in list(permutations(dist,len(dist))):\n",
        "      count=1\n",
        "      position = weak[start]+friends[count-1]\n",
        "      for index in range(start,start+length):\n",
        "        if position<weak[index]:\n",
        "          count+=1\n",
        "          if count>len(dist):\n",
        "            break\n",
        "          position = weak[index] + friends[count-1]\n",
        "      answer = min(answer,count)    \n",
        "\n",
        "  if answer>len(dist):\n",
        "    return -1\n",
        "  return answer   \n",
        "\n",
        "n =12\n",
        "weak=[1,5,6,10]\n",
        "dist=[1,2,3,4]\n",
        "solution(n,weak,dist)\n",
        "        \n",
        "\n",
        "\n",
        "\n",
        "\n",
        "\n",
        "      \n",
        "  \n",
        "  \n",
        "\n",
        "\n",
        "    \n"
      ]
    },
    {
      "cell_type": "code",
      "source": [
        "a=[12,3,4,5]\n",
        "a=list(permutations(a,len(a)))\n",
        "print(a)"
      ],
      "metadata": {
        "colab": {
          "base_uri": "https://localhost:8080/"
        },
        "id": "65suFMyfQZL_",
        "outputId": "a3b249cd-350d-4289-963a-8eb89d3b8abf"
      },
      "execution_count": 9,
      "outputs": [
        {
          "output_type": "stream",
          "name": "stdout",
          "text": [
            "[(12, 3, 4, 5), (12, 3, 5, 4), (12, 4, 3, 5), (12, 4, 5, 3), (12, 5, 3, 4), (12, 5, 4, 3), (3, 12, 4, 5), (3, 12, 5, 4), (3, 4, 12, 5), (3, 4, 5, 12), (3, 5, 12, 4), (3, 5, 4, 12), (4, 12, 3, 5), (4, 12, 5, 3), (4, 3, 12, 5), (4, 3, 5, 12), (4, 5, 12, 3), (4, 5, 3, 12), (5, 12, 3, 4), (5, 12, 4, 3), (5, 3, 12, 4), (5, 3, 4, 12), (5, 4, 12, 3), (5, 4, 3, 12)]\n"
          ]
        }
      ]
    },
    {
      "cell_type": "code",
      "source": [
        "a=[[1,2],[3,4]]\n",
        "print(a)\n"
      ],
      "metadata": {
        "colab": {
          "base_uri": "https://localhost:8080/"
        },
        "id": "TW89IaCVCVAi",
        "outputId": "0787decf-e5ad-46bc-b3f7-bd34c266e0a5"
      },
      "execution_count": 8,
      "outputs": [
        {
          "output_type": "stream",
          "name": "stdout",
          "text": [
            "[[1, 2], [3, 4]]\n"
          ]
        }
      ]
    }
  ]
}
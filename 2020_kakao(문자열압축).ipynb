{
  "nbformat": 4,
  "nbformat_minor": 0,
  "metadata": {
    "colab": {
      "name": "2020 kakao(문자열압축).ipynb",
      "provenance": [],
      "authorship_tag": "ABX9TyN0/sqyCS0YW45vU3TWpqry",
      "include_colab_link": true
    },
    "kernelspec": {
      "name": "python3",
      "display_name": "Python 3"
    },
    "language_info": {
      "name": "python"
    }
  },
  "cells": [
    {
      "cell_type": "markdown",
      "metadata": {
        "id": "view-in-github",
        "colab_type": "text"
      },
      "source": [
        "<a href=\"https://colab.research.google.com/github/minit88/minit88/blob/main/2020_kakao(%EB%AC%B8%EC%9E%90%EC%97%B4%EC%95%95%EC%B6%95).ipynb\" target=\"_parent\"><img src=\"https://colab.research.google.com/assets/colab-badge.svg\" alt=\"Open In Colab\"/></a>"
      ]
    },
    {
      "cell_type": "code",
      "execution_count": 65,
      "metadata": {
        "colab": {
          "base_uri": "https://localhost:8080/"
        },
        "id": "a-HMk3BRVcP3",
        "outputId": "23b29187-cd7d-4e64-f18b-980961c6a3f0"
      },
      "outputs": [
        {
          "output_type": "execute_result",
          "data": {
            "text/plain": [
              "9"
            ]
          },
          "metadata": {},
          "execution_count": 65
        }
      ],
      "source": [
        "#문자열 압축 카카오 신입공채문제\n",
        "#직접 작성한 풀이.\n",
        "\n",
        "from collections import deque\n",
        "\n",
        "def generater(k,i): #n번 자르기\n",
        "    q=deque(k)\n",
        "    while q: # 큐가 빌 때까지\n",
        "            abc=\"\" # 공백 생성\n",
        "            for j in range(i): # b번 나누어 담음\n",
        "                if len(q)==0 :\n",
        "                  break\n",
        "                else:\n",
        "                  abc+=q.popleft()\n",
        "            array[i].append(abc)\n",
        "\n",
        "\n",
        "def find_same(i): # 중복 검사\n",
        "  count=1\n",
        "  q=deque(array[i])\n",
        "  edg=\"\"\n",
        "\n",
        "  while q:\n",
        "    first_data=q.popleft()\n",
        "    if len(q)>0: # 비교할 큐가 있을 때\n",
        "      if first_data==q[0]:#계속 중복일 때\n",
        "        count+=1\n",
        "      else: #더이상 중복되지 않을 때\n",
        "        if count>=2:\n",
        "          edg+=str(count)+first_data\n",
        "          count=1\n",
        "        else:\n",
        "          edg+=first_data\n",
        "    else: # 비교할 큐가 없을 때\n",
        "      if count>=2: # 계속 중복일 때\n",
        "          edg+=(str(count)+first_data)\n",
        "          count=1\n",
        "      else: # 더이상 중복되지 않을 때\n",
        "          edg+=first_data\n",
        "\n",
        "  return len(edg)\n",
        "\n",
        "\n",
        "def solution(s):\n",
        "    #생선된 데이터를 담을 리스트 초기화\n",
        "    global array\n",
        "    array = [[]for _ in range(len(s)+1)]\n",
        "    result=int(1e9)\n",
        "    \n",
        "    #빼는 횟수가 s문자열의 전체 수 보다 작아야함\n",
        "    for i in range(1,(len(s)+1)):\n",
        "      generater(s,i)\n",
        "      result=(min(result,find_same(i)))\n",
        "             \n",
        "\n",
        "    return result\n",
        "\n",
        "\n",
        "s=\"ababcdcdababcdcd\"\n",
        "solution(s)\n",
        "\n",
        "        \n",
        "        \n",
        "        \n",
        "        \n",
        "        \n",
        "                "
      ]
    }
  ]
}